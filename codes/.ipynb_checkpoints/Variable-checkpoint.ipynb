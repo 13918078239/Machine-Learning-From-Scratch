{
 "cells": [
  {
   "cell_type": "markdown",
   "metadata": {},
   "source": [
    "## 什么是变量\n",
    "\n",
    "本节代码包括：\n",
    "- 从 csv 获取数据\n",
    "- 查看数据集\n",
    "- 查看数据基本描述信息\n",
    "- 查看变量的类型\n",
    "- 查看数据集形状\n",
    "- 数值型变量（unique取值/直方图）\n",
    "- 类别型变量（unique取值/直方图）\n",
    "\n",
    "使用的数据集是著名的 Lending Club 在 Kaggle上的数据集，下载地址 [Kaggle's website](https://www.kaggle.com/wendykan/lending-club-loan-data)。\n",
    "\n",
    "由于原始 CSV 过大，暂时不上传到仓库里了。请将下载好的 loan.zip 文件解压，放置在 /data 目录下。"
   ]
  },
  {
   "cell_type": "code",
   "execution_count": 1,
   "metadata": {
    "collapsed": true
   },
   "outputs": [],
   "source": [
    "import pandas as pd\n",
    "import numpy as np\n",
    "\n",
    "import matplotlib.pyplot as plt\n",
    "%matplotlib inline"
   ]
  },
  {
   "cell_type": "markdown",
   "metadata": {},
   "source": [
    "### 从csv中获取数据"
   ]
  },
  {
   "cell_type": "code",
   "execution_count": 5,
   "metadata": {},
   "outputs": [
    {
     "data": {
      "text/html": [
       "<div>\n",
       "<style>\n",
       "    .dataframe thead tr:only-child th {\n",
       "        text-align: right;\n",
       "    }\n",
       "\n",
       "    .dataframe thead th {\n",
       "        text-align: left;\n",
       "    }\n",
       "\n",
       "    .dataframe tbody tr th {\n",
       "        vertical-align: top;\n",
       "    }\n",
       "</style>\n",
       "<table border=\"1\" class=\"dataframe\">\n",
       "  <thead>\n",
       "    <tr style=\"text-align: right;\">\n",
       "      <th></th>\n",
       "      <th>loan_amnt</th>\n",
       "      <th>int_rate</th>\n",
       "      <th>annual_inc</th>\n",
       "      <th>loan_status</th>\n",
       "      <th>open_acc</th>\n",
       "      <th>open_il_12m</th>\n",
       "    </tr>\n",
       "  </thead>\n",
       "  <tbody>\n",
       "    <tr>\n",
       "      <th>131079</th>\n",
       "      <td>23675.0</td>\n",
       "      <td>15.80</td>\n",
       "      <td>90000.0</td>\n",
       "      <td>Current</td>\n",
       "      <td>4.0</td>\n",
       "      <td>NaN</td>\n",
       "    </tr>\n",
       "    <tr>\n",
       "      <th>384935</th>\n",
       "      <td>7500.0</td>\n",
       "      <td>11.67</td>\n",
       "      <td>102000.0</td>\n",
       "      <td>Current</td>\n",
       "      <td>11.0</td>\n",
       "      <td>NaN</td>\n",
       "    </tr>\n",
       "    <tr>\n",
       "      <th>73585</th>\n",
       "      <td>11150.0</td>\n",
       "      <td>9.25</td>\n",
       "      <td>72000.0</td>\n",
       "      <td>Fully Paid</td>\n",
       "      <td>6.0</td>\n",
       "      <td>NaN</td>\n",
       "    </tr>\n",
       "    <tr>\n",
       "      <th>660814</th>\n",
       "      <td>8000.0</td>\n",
       "      <td>6.24</td>\n",
       "      <td>101400.0</td>\n",
       "      <td>Current</td>\n",
       "      <td>20.0</td>\n",
       "      <td>NaN</td>\n",
       "    </tr>\n",
       "    <tr>\n",
       "      <th>349757</th>\n",
       "      <td>34000.0</td>\n",
       "      <td>19.52</td>\n",
       "      <td>99000.0</td>\n",
       "      <td>Current</td>\n",
       "      <td>12.0</td>\n",
       "      <td>NaN</td>\n",
       "    </tr>\n",
       "  </tbody>\n",
       "</table>\n",
       "</div>"
      ],
      "text/plain": [
       "        loan_amnt  int_rate  annual_inc loan_status  open_acc  open_il_12m\n",
       "131079    23675.0     15.80     90000.0     Current       4.0          NaN\n",
       "384935     7500.0     11.67    102000.0     Current      11.0          NaN\n",
       "73585     11150.0      9.25     72000.0  Fully Paid       6.0          NaN\n",
       "660814     8000.0      6.24    101400.0     Current      20.0          NaN\n",
       "349757    34000.0     19.52     99000.0     Current      12.0          NaN"
      ]
     },
     "execution_count": 5,
     "metadata": {},
     "output_type": "execute_result"
    }
   ],
   "source": [
    "# 从csv中读取数据文件\n",
    "# 由于原始数据集特征过多，这里定义下要取的列\n",
    "use_cols = [\n",
    "    'loan_amnt', 'int_rate', 'annual_inc', 'open_acc', 'loan_status',\n",
    "    'open_il_12m'\n",
    "]\n",
    "\n",
    "# 读取csv数据，抽样10000行。 注意读取文件的路径！\n",
    "data = pd.read_csv('../data/loan.csv', usecols=use_cols).sample(10000, random_state=44)  # set a seed for reproducibility\n",
    "\n",
    "# 输出数据集的前 5 行\n",
    "data.head(n=5)"
   ]
  },
  {
   "cell_type": "markdown",
   "metadata": {},
   "source": [
    "### 单变量分析（数值变量）\n",
    "- 计数/均值/标准差/最小/最大/百分位值"
   ]
  },
  {
   "cell_type": "code",
   "execution_count": 6,
   "metadata": {},
   "outputs": [
    {
     "data": {
      "text/html": [
       "<div>\n",
       "<style>\n",
       "    .dataframe thead tr:only-child th {\n",
       "        text-align: right;\n",
       "    }\n",
       "\n",
       "    .dataframe thead th {\n",
       "        text-align: left;\n",
       "    }\n",
       "\n",
       "    .dataframe tbody tr th {\n",
       "        vertical-align: top;\n",
       "    }\n",
       "</style>\n",
       "<table border=\"1\" class=\"dataframe\">\n",
       "  <thead>\n",
       "    <tr style=\"text-align: right;\">\n",
       "      <th></th>\n",
       "      <th>loan_amnt</th>\n",
       "      <th>int_rate</th>\n",
       "      <th>annual_inc</th>\n",
       "      <th>open_acc</th>\n",
       "      <th>open_il_12m</th>\n",
       "    </tr>\n",
       "  </thead>\n",
       "  <tbody>\n",
       "    <tr>\n",
       "      <th>count</th>\n",
       "      <td>10000.000000</td>\n",
       "      <td>10000.000000</td>\n",
       "      <td>1.000000e+04</td>\n",
       "      <td>10000.000000</td>\n",
       "      <td>238.000000</td>\n",
       "    </tr>\n",
       "    <tr>\n",
       "      <th>mean</th>\n",
       "      <td>14790.425000</td>\n",
       "      <td>13.280309</td>\n",
       "      <td>7.503549e+04</td>\n",
       "      <td>11.502900</td>\n",
       "      <td>0.777311</td>\n",
       "    </tr>\n",
       "    <tr>\n",
       "      <th>std</th>\n",
       "      <td>8416.797502</td>\n",
       "      <td>4.394824</td>\n",
       "      <td>5.557621e+04</td>\n",
       "      <td>5.340135</td>\n",
       "      <td>0.943996</td>\n",
       "    </tr>\n",
       "    <tr>\n",
       "      <th>min</th>\n",
       "      <td>1000.000000</td>\n",
       "      <td>5.320000</td>\n",
       "      <td>0.000000e+00</td>\n",
       "      <td>1.000000</td>\n",
       "      <td>0.000000</td>\n",
       "    </tr>\n",
       "    <tr>\n",
       "      <th>25%</th>\n",
       "      <td>8000.000000</td>\n",
       "      <td>9.990000</td>\n",
       "      <td>4.500000e+04</td>\n",
       "      <td>8.000000</td>\n",
       "      <td>0.000000</td>\n",
       "    </tr>\n",
       "    <tr>\n",
       "      <th>50%</th>\n",
       "      <td>13000.000000</td>\n",
       "      <td>12.990000</td>\n",
       "      <td>6.400000e+04</td>\n",
       "      <td>11.000000</td>\n",
       "      <td>1.000000</td>\n",
       "    </tr>\n",
       "    <tr>\n",
       "      <th>75%</th>\n",
       "      <td>20000.000000</td>\n",
       "      <td>16.290000</td>\n",
       "      <td>9.000000e+04</td>\n",
       "      <td>14.000000</td>\n",
       "      <td>1.000000</td>\n",
       "    </tr>\n",
       "    <tr>\n",
       "      <th>max</th>\n",
       "      <td>35000.000000</td>\n",
       "      <td>27.880000</td>\n",
       "      <td>2.300000e+06</td>\n",
       "      <td>48.000000</td>\n",
       "      <td>6.000000</td>\n",
       "    </tr>\n",
       "  </tbody>\n",
       "</table>\n",
       "</div>"
      ],
      "text/plain": [
       "          loan_amnt      int_rate    annual_inc      open_acc  open_il_12m\n",
       "count  10000.000000  10000.000000  1.000000e+04  10000.000000   238.000000\n",
       "mean   14790.425000     13.280309  7.503549e+04     11.502900     0.777311\n",
       "std     8416.797502      4.394824  5.557621e+04      5.340135     0.943996\n",
       "min     1000.000000      5.320000  0.000000e+00      1.000000     0.000000\n",
       "25%     8000.000000      9.990000  4.500000e+04      8.000000     0.000000\n",
       "50%    13000.000000     12.990000  6.400000e+04     11.000000     1.000000\n",
       "75%    20000.000000     16.290000  9.000000e+04     14.000000     1.000000\n",
       "max    35000.000000     27.880000  2.300000e+06     48.000000     6.000000"
      ]
     },
     "execution_count": 6,
     "metadata": {},
     "output_type": "execute_result"
    }
   ],
   "source": [
    "# 输出各个变量的基本描述信息\n",
    "data.describe()"
   ]
  },
  {
   "cell_type": "code",
   "execution_count": 7,
   "metadata": {},
   "outputs": [
    {
     "data": {
      "text/plain": [
       "loan_amnt      float64\n",
       "int_rate       float64\n",
       "annual_inc     float64\n",
       "loan_status     object\n",
       "open_acc       float64\n",
       "open_il_12m    float64\n",
       "dtype: object"
      ]
     },
     "execution_count": 7,
     "metadata": {},
     "output_type": "execute_result"
    }
   ],
   "source": [
    "# 输出各个变量的类型。 注意这里 loan_status 的类型是object，所以无法输出描述信息\n",
    "data.dtypes"
   ]
  },
  {
   "cell_type": "code",
   "execution_count": 12,
   "metadata": {},
   "outputs": [
    {
     "data": {
      "text/plain": [
       "(10000, 6)"
      ]
     },
     "execution_count": 12,
     "metadata": {},
     "output_type": "execute_result"
    }
   ],
   "source": [
    "# 数据集的形状\n",
    "data.shape"
   ]
  },
  {
   "cell_type": "markdown",
   "metadata": {
    "collapsed": true
   },
   "source": [
    "### 去重后的取值"
   ]
  },
  {
   "cell_type": "code",
   "execution_count": 13,
   "metadata": {},
   "outputs": [
    {
     "data": {
      "text/plain": [
       "array([ 23675.,   7500.,  11150.,   8000.,  34000.,   8725.,  30000.,\n",
       "        10000.,  10200.,  18000.,  24000.,  12000.,  19200.,  35000.,\n",
       "         4800.,  16800.,  14725.,  16000.,  31500.,  22500.,  18800.,\n",
       "        14100.,  20000.,   5000.,  10625.,  13350.,  15000.,   2900.,\n",
       "        28000.,  15950.,   1500.,   1000.,  25000.,  19500.,  13000.,\n",
       "        21000.,  17650.,   9600.,  14525.,   5600.,   6400.,   6000.,\n",
       "        14000.,  11000.,  22400.,  16825.,   8200.,  21600.,  20675.,\n",
       "         2000.,   3950.,   4000.,   9500.,   8975.,  13625.,   7000.,\n",
       "         5500.,   9450.,  10800.,   7200.,  27700.,   4650.,   3600.,\n",
       "         6450.,  15625.,   4825.,  11200.,   4200.,  28500.,   3375.,\n",
       "         5800.,   4425.,  25875.,  24800.,  14400.,  22000.,  19750.,\n",
       "        26500.,   3625.,  17000.,  21125.,   7525.,   3000.,   9250.,\n",
       "        14675.,  11700.,   7025.,  19775.,  17800.,  10300.,  13200.,\n",
       "        32000.,  15400.,  10575.,   9000.,  10075.,  14600.,  11550.,\n",
       "        12500.,  20975.,  26000.,  22250.,  17100.,  13375.,  12125.,\n",
       "        23900.,  28800.,  12800.,  10750.,   3500.,   4850.,  18550.,\n",
       "        12250.,  10500.,   4225.,   3925.,   6950.,  33000.,  23250.,\n",
       "         7225.,   1600.,  14175.,  23000.,  11400.,   8500.,   2800.,\n",
       "        20375.,  10475.,  19275.,   8900.,  11250.,  17600.,  21150.,\n",
       "         6700.,   9150.,  11325.,  27800.,   5950.,  29700.,  24500.,\n",
       "        12100.,   8425.,  19600.,   3700.,   2500.,  11975.,   8225.,\n",
       "         1975.,   7750.,  19100.,  29000.,   4750.,   5400.,  23200.,\n",
       "        30625.,  16550.,  15425.,  20125.,  28650.,  30225.,   9800.,\n",
       "         5550.,  11500.,  21200.,  19175.,  12375.,  23325.,  18300.,\n",
       "         2950.,  16450.,   6675.,  17625.,   9125.,   9550.,  15475.,\n",
       "        21100.,  15850.,  16700.,   3850.,   7100.,  11625.,  20500.,\n",
       "        13300.,   9750.,  22800.,  27000.,  26400.,  10250.,  29975.,\n",
       "        29275.,   7050.,  18225.,  10975.,  21825.,  22950.,   3775.,\n",
       "        15600.,  18875.,  12575.,  12475.,   5750.,  32200.,  14375.,\n",
       "         3975.,  22050.,  24925.,  14900.,  26575.,  15500.,   5300.,\n",
       "         3300.,   1200.,   8750.,  13675.,   3425.,  27175.,   7600.,\n",
       "         6500.,  29850.,  13150.,  17875.,  10450.,   7925.,   8800.,\n",
       "        10775.,  11900.,  17575.,  19900.,  13775.,   4175.,   6725.,\n",
       "        17975.,  19000.,   3200.,   5175.,  28100.,   7800.,   6800.,\n",
       "        16425.,  19150.,  16500.,  23450.,  17850.,  17925.,   4925.,\n",
       "         7250.,  16875.,  22825.,   4550.,  12600.,  11850.,  14750.,\n",
       "        13450.,   1800.,  22375.,   4300.,  10100.,  11175.,  24375.,\n",
       "        23875.,   4450.,  15825.,  29325.,   4125.,  25600.,  18200.,\n",
       "        12525.,  12450.,   5375.,  13600.,   4250.,  12400.,   1400.,\n",
       "        23300.,   6300.,   7400.,  22200.,   5025.,  22225.,  17500.,\n",
       "        16200.,  32400.,   4900.,   5200.,   7900.,  30750.,   3250.,\n",
       "        14025.,   3400.,  11950.,  24900.,  13525.,  14500.,  13700.,\n",
       "        27575.,  24325.,  11575.,  11750.,   7300.,  12700.,  25750.,\n",
       "         4950.,  28900.,  33950.,  11425.,  20400.,   8400.,  25975.,\n",
       "        32500.,   3650.,   3350.,   7575.,   7075.,  28250.,   5075.,\n",
       "        24700.,  20050.,   4725.,   2750.,  14325.,   8600.,  14425.,\n",
       "        17275.,  13500.,  21850.,  23975.,   7175.,  12425.,  10050.,\n",
       "         4500.,   4700.,  11050.,   2400.,   8125.,  18250.,  11300.,\n",
       "        17425.,   2100.,  16575.,   8275.,  24625.,  24450.,  24525.,\n",
       "        30925.,  10950.,  32625.,   5450.,  25725.,  10675.,  13425.,\n",
       "        19675.,   3875.,  10400.,  20250.,   6050.,  12175.,  18900.,\n",
       "        23950.,  16150.,  27675.,  25075.,   6075.,  19050.,  11525.,\n",
       "        11075.,  12075.,   8100.,   8250.,  22750.,   3325.,   6475.,\n",
       "        20325.,  21350.,  15275.,  10225.,   2375.,  21700.,  19125.,\n",
       "        27875.,  20700.,   9975.,  33600.,  16900.,  10150.,   8875.,\n",
       "        13750.,  11800.,  14075.,   7125.,  16750.,   6250.,  18500.,\n",
       "        10825.,  26900.,   6150.,   8150.,  12875.,   1950.,  34550.,\n",
       "         5050.,   4475.,   8700.,  11450.,  25200.,  27500.,   8325.,\n",
       "        22550.,  16975.,  23475.,   7350.,  31050.,   9700.,  23350.,\n",
       "        21275.,  13050.,  10325.,   8850.,   9200.,   9925.,  16100.,\n",
       "        13650.,   2875.,  11600.,  27550.,  18025.,  19575.,   9375.,\n",
       "        14450.,  27250.,  32100.,  23750.,  17950.,  19075.,  19800.,\n",
       "         8950.,  10600.,  18400.,  23400.,   8450.,   8025.,  12925.,\n",
       "         2325.,  31975.,   4675.,  14975.,  18825.,  31300.,  27200.,\n",
       "         6225.,  20200.,  15775.,  21400.,  19700.,   2475.,   9900.,\n",
       "        12675.,  15250.,  23500.,  16950.,  11375.,  28200.,   4375.,\n",
       "        24350.,  18350.,  13800.,   5100.,   8300.,  10375.,  10275.,\n",
       "        15300.,  23650.,  20425.,   8175.,   6425.,  14125.,   6825.,\n",
       "         3550.,  31450.,  15225.,  13475.,  17325.,  20550.,  12725.,\n",
       "        30600.,  15875.,   2700.,   9025.,  12975.,  30500.,   5925.,\n",
       "         7375.,   3900.,   9400.,   3825.,   9175.,   6875.,  31000.,\n",
       "         3100.,   2525.,   2200.,  15700.,  11025.,  25225.,  23275.,\n",
       "        32950.,   5250.,   2250.,  27050.,  14825.,  26600.,   7825.,\n",
       "        18575.,  23850.,   5225.,   6350.,  19725.,  32650.,  32675.,\n",
       "        14575.,  23575.,   2150.,   3225.,  16850.,  11100.,   9675.,\n",
       "        20875.,  29175.,  13900.,  29900.,   7775.,  21250.,  29100.,\n",
       "        24975.,   4075.,  19300.,  13225.,  10550.,  12750.,  11875.,\n",
       "        20800.,  31825.,  12275.,   1675.,  21475.,   9875.,  10700.,\n",
       "        26850.,   8775.,  18600.,   9950.,  24600.,  10850.,  15975.,\n",
       "         5700.,  20150.,  22850.,  23825.,   9325.,   2850.,  29775.,\n",
       "         9100.,  32225.,  33575.,  10900.,  22100.,   3050.,  12625.,\n",
       "        15750.,  11225.,  13925.,  13975.,  14150.,   9650.,  24250.,\n",
       "        16225.,  31200.,   3025.,  15125.,   4400.,  17400.,  19350.,\n",
       "        18700.,  12150.,  18075.,   9050.,  23625.,   7150.,  11125.,\n",
       "         6200.,  24200.,  32125.,  30150.,  19025.,   9825.,   1900.,\n",
       "        12950.,  14800.,   2275.,  22575.,  28975.,  16300.,  25275.,\n",
       "         9850.,  22475.,  16375.,  22125.,  30100.,  24650.,  15100.,\n",
       "        27600.,  33875.,  12775.,  27325.,  24475.,   1450.,  18625.,\n",
       "        17825.,  25450.,  16250.,  26375.,  20950.,   2975.,  15900.,\n",
       "        15725.,  16475.,  34475.,  24175.,   6625.,   9225.,  11350.,\n",
       "        16400.,   5725.,  24400.,  16125.,  22600.,   3275.,  10025.,\n",
       "        23600.,  22150.,  30350.,  32350.,   8650.,  10525.,  28675.,\n",
       "        21900.,  19475.,   1875.,   7475.,  15375.,  34025.,   9625.,\n",
       "        33675.,  24725.,   5275.,  34625.,  15800.,   2600.,  21300.,\n",
       "         4600.,  29400.,  23800.,  11475.,   5875.,   8550.,  23075.,\n",
       "        20175.,  22650.,  11275.,   4100.,  18050.,   5625.,  20775.,\n",
       "        17050.,  17700.,  23525.,  10725.,   3575.,  12300.,  25475.,\n",
       "        17475.,   3800.,  19950.,  18150.,  29050.,  18750.,  30800.,\n",
       "        20225.,  33500.,  13325.,  17225.,  25150.,  28375.,  16725.,\n",
       "        34800.,  15200.,  15450.,  19375.,  17750.,  17075.,   7625.,\n",
       "         7725.,   3125.,  10875.,   5150.,  12900.,   3450.,  26925.,\n",
       "        15350.,   4875.,  10350.,   7325.,  21750.,  33100.,   7950.,\n",
       "        18450.,  26975.,   9350.,   5425.,   9300.,   1925.,  13250.,\n",
       "         6850.,   9525.,  33175.,  11675.,   7700.,  20100.,  25700.,\n",
       "        10425.,   8525.,  13125.,  22075.,  25350.,  12225.,  18175.,\n",
       "        30375.,   4275.,   5975.,  16675.,  13850.,  14050.,  25325.,\n",
       "         5125.,   9275.,  11725.,  20925.,  13075.,  13575.,  27350.,\n",
       "        28625.,   1100.,   6275.,  16600.,  10175.,  32875.,   6750.,\n",
       "         9775.,  20650.,   5825.,  28850.,  16625.,   6575.,  17775.,\n",
       "         5350.,  23125.,   2725.,   4625.,   8050.,  12050.,   7875.,\n",
       "        18975.,   3075.,  17125.,  14275.,  33425.,  17350.,  24550.,\n",
       "        27450.,  19550.,  21575.,  14300.,  27725.,  26650.,   2775.,\n",
       "         6125.,  27525.,  34500.,  19825.,   8625.,  29500.,  18725.,\n",
       "        12825.,  10650.,   5475.,   5525.,  22700.,  22425.,  21775.,\n",
       "        20300.,  20750.,  24575.,  19425.,   9075.,  25300.,  12350.,\n",
       "        28050.,  27625.,   8475.,  30075.,  14475.,   6600.,  15075.,\n",
       "         7550.,  13400.,   5325.,  26125.,  27850.,  17550.,  14700.,\n",
       "        22525.,  13950.,  15925.,  12325.,  24100.,  21450.,   7275.,\n",
       "         7850.,  27100.,   6925.,  19400.,   8350.,  21725.,  21650.,\n",
       "        14950.,   5900.,   4575.,   6025.,  31700.,  28775.,  26800.,\n",
       "         4325.,  13825.,  11825.,   3725.,   9725.,  13725.,  21050.,\n",
       "        32450.,  25500.,  19875.,  24825.,  29450.,   7975.,  16525.,\n",
       "         4025.,  11775.,  19650.,  27425.,  24750.,  13100.,   6100.,\n",
       "        15550.,  20450.,  22675.,  27300.,  19850.,   1550.,  26275.,\n",
       "         6975.,  20475.,  29575.,  32750.,  24950.,  18525.,  26750.,\n",
       "        32850.,  23100.,  20350.,   7650.,  14225.,  12850.,  26475.,\n",
       "        28425.,  12200.,  15650.,  32050.,  33750.,  13875.,  18650.,\n",
       "        13025.])"
      ]
     },
     "execution_count": 13,
     "metadata": {},
     "output_type": "execute_result"
    }
   ],
   "source": [
    "# 贷款金额的取值（去重）\n",
    "data.loan_amnt.unique()"
   ]
  },
  {
   "cell_type": "markdown",
   "metadata": {},
   "source": [
    "### 直方图"
   ]
  },
  {
   "cell_type": "code",
   "execution_count": 14,
   "metadata": {},
   "outputs": [
    {
     "data": {
      "text/plain": [
       "<matplotlib.text.Text at 0x1af2571a0b8>"
      ]
     },
     "execution_count": 14,
     "metadata": {},
     "output_type": "execute_result"
    },
    {
     "data": {
      "image/png": "[encoded data removed]",
      "text/plain": [
       "<matplotlib.figure.Figure at 0x1af2556b828>"
      ]
     },
     "metadata": {},
     "output_type": "display_data"
    }
   ],
   "source": [
    "fig = data.loan_amnt.hist(bins=50)\n",
    "fig.set_title('Loan Amount Requested')\n",
    "fig.set_xlabel('Loan Amount')\n",
    "fig.set_ylabel('Number of Loans')"
   ]
  },
  {
   "cell_type": "code",
   "execution_count": 15,
   "metadata": {},
   "outputs": [
    {
     "data": {
      "text/plain": [
       "<matplotlib.text.Text at 0x1af258d2d68>"
      ]
     },
     "execution_count": 15,
     "metadata": {},
     "output_type": "execute_result"
    },
    {
     "data": {
      "image/png": "[encoded data removed]",
      "text/plain": [
       "<matplotlib.figure.Figure at 0x1af25720eb8>"
      ]
     },
     "metadata": {},
     "output_type": "display_data"
    }
   ],
   "source": [
    "# 年收入的直方图\n",
    "fig = data.annual_inc.hist(bins=100)\n",
    "fig.set_xlim(0, 400000)\n",
    "fig.set_title(\"Customer's Annual Income\")\n",
    "fig.set_xlabel('Annual Income')\n",
    "fig.set_ylabel('Number of Customers')"
   ]
  },
  {
   "cell_type": "code",
   "execution_count": 16,
   "metadata": {},
   "outputs": [
    {
     "data": {
      "text/plain": [
       "array([  4.,  11.,   6.,  20.,  12.,   5.,   8.,   9.,  18.,  16.,  10.,\n",
       "        13.,  14.,   7.,  19.,   3.,  15.,  17.,  26.,   2.,  27.,  22.,\n",
       "        21.,  25.,  23.,  29.,  39.,  24.,  30.,  31.,  28.,  37.,  32.,\n",
       "        48.,  33.,  34.,   1.,  35.,  36.,  41.,  45.,  40.,  42.])"
      ]
     },
     "execution_count": 16,
     "metadata": {},
     "output_type": "execute_result"
    }
   ],
   "source": [
    "# 再来看一个离散型数值变量，开户数目\n",
    "data.open_acc.dropna().unique()"
   ]
  },
  {
   "cell_type": "code",
   "execution_count": 17,
   "metadata": {},
   "outputs": [
    {
     "data": {
      "text/plain": [
       "<matplotlib.text.Text at 0x1af25d8bac8>"
      ]
     },
     "execution_count": 17,
     "metadata": {},
     "output_type": "execute_result"
    },
    {
     "data": {
      "image/png": "[encoded data removed]",
      "text/plain": [
       "<matplotlib.figure.Figure at 0x1af25734c88>"
      ]
     },
     "metadata": {},
     "output_type": "display_data"
    }
   ],
   "source": [
    "# 直方图\n",
    "fig = data.open_acc.hist(bins=100)\n",
    "fig.set_xlim(0, 30)\n",
    "fig.set_title('Number of open accounts')\n",
    "fig.set_xlabel('Number of open accounts')\n",
    "fig.set_ylabel('Number of Customers')"
   ]
  },
  {
   "cell_type": "markdown",
   "metadata": {
    "collapsed": true
   },
   "source": [
    "### 单变量分析（类别变量）"
   ]
  },
  {
   "cell_type": "code",
   "execution_count": 20,
   "metadata": {},
   "outputs": [
    {
     "data": {
      "text/html": [
       "<div>\n",
       "<style>\n",
       "    .dataframe thead tr:only-child th {\n",
       "        text-align: right;\n",
       "    }\n",
       "\n",
       "    .dataframe thead th {\n",
       "        text-align: left;\n",
       "    }\n",
       "\n",
       "    .dataframe tbody tr th {\n",
       "        vertical-align: top;\n",
       "    }\n",
       "</style>\n",
       "<table border=\"1\" class=\"dataframe\">\n",
       "  <thead>\n",
       "    <tr style=\"text-align: right;\">\n",
       "      <th></th>\n",
       "      <th>id</th>\n",
       "      <th>home_ownership</th>\n",
       "      <th>loan_status</th>\n",
       "      <th>purpose</th>\n",
       "    </tr>\n",
       "  </thead>\n",
       "  <tbody>\n",
       "    <tr>\n",
       "      <th>131079</th>\n",
       "      <td>5554979</td>\n",
       "      <td>RENT</td>\n",
       "      <td>Current</td>\n",
       "      <td>debt_consolidation</td>\n",
       "    </tr>\n",
       "    <tr>\n",
       "      <th>384935</th>\n",
       "      <td>16552323</td>\n",
       "      <td>OWN</td>\n",
       "      <td>Current</td>\n",
       "      <td>car</td>\n",
       "    </tr>\n",
       "    <tr>\n",
       "      <th>73585</th>\n",
       "      <td>8185454</td>\n",
       "      <td>RENT</td>\n",
       "      <td>Fully Paid</td>\n",
       "      <td>credit_card</td>\n",
       "    </tr>\n",
       "    <tr>\n",
       "      <th>660814</th>\n",
       "      <td>56180166</td>\n",
       "      <td>RENT</td>\n",
       "      <td>Current</td>\n",
       "      <td>debt_consolidation</td>\n",
       "    </tr>\n",
       "    <tr>\n",
       "      <th>349757</th>\n",
       "      <td>16772363</td>\n",
       "      <td>RENT</td>\n",
       "      <td>Current</td>\n",
       "      <td>credit_card</td>\n",
       "    </tr>\n",
       "  </tbody>\n",
       "</table>\n",
       "</div>"
      ],
      "text/plain": [
       "              id home_ownership loan_status             purpose\n",
       "131079   5554979           RENT     Current  debt_consolidation\n",
       "384935  16552323            OWN     Current                 car\n",
       "73585    8185454           RENT  Fully Paid         credit_card\n",
       "660814  56180166           RENT     Current  debt_consolidation\n",
       "349757  16772363           RENT     Current         credit_card"
      ]
     },
     "execution_count": 20,
     "metadata": {},
     "output_type": "execute_result"
    }
   ],
   "source": [
    "# 从csv中读取数据文件\n",
    "# 由于原始数据集特征过多，这里定义下要取的列\n",
    "use_cols = ['id', 'purpose', 'loan_status', 'home_ownership']\n",
    "\n",
    "# 读取csv数据，抽样10000行\n",
    "data = pd.read_csv('../data/loan.csv', usecols=use_cols).sample(10000, random_state=44)  # set a seed for reproducibility\n",
    "\n",
    "# 输出数据集的前 5 行\n",
    "data.head(n=5)"
   ]
  },
  {
   "cell_type": "code",
   "execution_count": 23,
   "metadata": {},
   "outputs": [
    {
     "data": {
      "text/plain": [
       "MORTGAGE    4957\n",
       "RENT        4055\n",
       "OWN          986\n",
       "OTHER          2\n",
       "Name: home_ownership, dtype: int64"
      ]
     },
     "execution_count": 23,
     "metadata": {},
     "output_type": "execute_result"
    }
   ],
   "source": [
    "# 房屋所有权的频数分布\n",
    "data['home_ownership'].value_counts()"
   ]
  },
  {
   "cell_type": "code",
   "execution_count": 24,
   "metadata": {},
   "outputs": [
    {
     "data": {
      "text/plain": [
       "<matplotlib.text.Text at 0x1af260d5908>"
      ]
     },
     "execution_count": 24,
     "metadata": {},
     "output_type": "execute_result"
    },
    {
     "data": {
      "image/png": "[encoded data removed]",
      "text/plain": [
       "<matplotlib.figure.Figure at 0x1af260ec208>"
      ]
     },
     "metadata": {},
     "output_type": "display_data"
    }
   ],
   "source": [
    "# 频数分布直方图\n",
    "fig = data['home_ownership'].value_counts().plot.bar()\n",
    "fig.set_title('Home Ownership')\n",
    "fig.set_ylabel('Number of customers')"
   ]
  },
  {
   "cell_type": "code",
   "execution_count": 25,
   "metadata": {},
   "outputs": [
    {
     "data": {
      "text/plain": [
       "<matplotlib.text.Text at 0x1af25861048>"
      ]
     },
     "execution_count": 25,
     "metadata": {},
     "output_type": "execute_result"
    },
    {
     "data": {
      "image/png": "[encoded data removed]",
      "text/plain": [
       "<matplotlib.figure.Figure at 0x1af255209b0>"
      ]
     },
     "metadata": {},
     "output_type": "display_data"
    }
   ],
   "source": [
    "# 贷款状态\n",
    "fig = data['loan_status'].value_counts().plot.bar()\n",
    "fig.set_title('Status of the Loan')\n",
    "fig.set_ylabel('Number of customers')"
   ]
  }
 ],
 "metadata": {
  "kernelspec": {
   "display_name": "Python 3",
   "language": "python",
   "name": "python3"
  },
  "language_info": {
   "codemirror_mode": {
    "name": "ipython",
    "version": 3
   },
   "file_extension": ".py",
   "mimetype": "text/x-python",
   "name": "python",
   "nbconvert_exporter": "python",
   "pygments_lexer": "ipython3",
   "version": "3.6.1"
  }
 },
 "nbformat": 4,
 "nbformat_minor": 2
}
